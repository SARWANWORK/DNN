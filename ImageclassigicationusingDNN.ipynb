{
  "nbformat": 4,
  "nbformat_minor": 0,
  "metadata": {
    "colab": {
      "name": "ImageclassigicationusingDNN.ipynb",
      "provenance": [],
      "authorship_tag": "ABX9TyNf+BhIiSA3qtmfMDQyNRmm",
      "include_colab_link": true
    },
    "kernelspec": {
      "name": "python3",
      "display_name": "Python 3"
    }
  },
  "cells": [
    {
      "cell_type": "markdown",
      "metadata": {
        "id": "view-in-github",
        "colab_type": "text"
      },
      "source": [
        "<a href=\"https://colab.research.google.com/github/SARWANWORK/DNN/blob/main/ImageclassigicationusingDNN.ipynb\" target=\"_parent\"><img src=\"https://colab.research.google.com/assets/colab-badge.svg\" alt=\"Open In Colab\"/></a>"
      ]
    },
    {
      "cell_type": "code",
      "metadata": {
        "id": "pvBicxg-ieVg"
      },
      "source": [
        "import time\r\n",
        "import numpy as np\r\n",
        "import h5py\r\n",
        "import matplotlib.pyplot as plt\r\n",
        "import scipy\r\n",
        "from PIL import Image\r\n",
        "from scipy import ndimage\r\n",
        "from dnn_app_utils_v3 import *\r\n",
        "\r\n",
        "%matplotlib inline\r\n",
        "plt.rcParams['figure.figsize'] = (5.0, 4.0) # set default size of plots\r\n",
        "plt.rcParams['image.interpolation'] = 'nearest'\r\n",
        "plt.rcParams['image.cmap'] = 'gray'\r\n",
        "\r\n",
        "%load_ext autoreload\r\n",
        "%autoreload 2\r\n",
        "\r\n",
        "np.random.seed(1)"
      ],
      "execution_count": 2,
      "outputs": []
    },
    {
      "cell_type": "code",
      "metadata": {
        "id": "29sIgdPNilzF"
      },
      "source": [
        "#datasets\r\n",
        "train_x_orig, train_y, test_x_orig, test_y, classes = load_data()"
      ],
      "execution_count": null,
      "outputs": []
    },
    {
      "cell_type": "code",
      "metadata": {
        "id": "YUDo7A5bjGeA"
      },
      "source": [
        "# Example of a picture\r\n",
        "index = 10\r\n",
        "plt.imshow(train_x_orig[index])\r\n",
        "print (\"y = \" + str(train_y[0,index]) + \". It's a \" + classes[train_y[0,index]].decode(\"utf-8\") +  \" picture.\")"
      ],
      "execution_count": null,
      "outputs": []
    },
    {
      "cell_type": "code",
      "metadata": {
        "id": "9vneHnYVjLwt"
      },
      "source": [
        "# Explore your dataset \r\n",
        "m_train = train_x_orig.shape[0]\r\n",
        "num_px = train_x_orig.shape[1]\r\n",
        "m_test = test_x_orig.shape[0]\r\n",
        "\r\n",
        "print (\"Number of training examples: \" + str(m_train))\r\n",
        "print (\"Number of testing examples: \" + str(m_test))\r\n",
        "print (\"Each image is of size: (\" + str(num_px) + \", \" + str(num_px) + \", 3)\")\r\n",
        "print (\"train_x_orig shape: \" + str(train_x_orig.shape))\r\n",
        "print (\"train_y shape: \" + str(train_y.shape))\r\n",
        "print (\"test_x_orig shape: \" + str(test_x_orig.shape))\r\n",
        "print (\"test_y shape: \" + str(test_y.shape))"
      ],
      "execution_count": null,
      "outputs": []
    },
    {
      "cell_type": "code",
      "metadata": {
        "id": "5eVFozudjTY5"
      },
      "source": [
        "# Reshape the training and test examples \r\n",
        "train_x_flatten = train_x_orig.reshape(train_x_orig.shape[0], -1).T   # The \"-1\" makes reshape flatten the remaining dimensions\r\n",
        "test_x_flatten = test_x_orig.reshape(test_x_orig.shape[0], -1).T\r\n",
        "\r\n",
        "# Standardize data to have feature values between 0 and 1.\r\n",
        "train_x = train_x_flatten/255.\r\n",
        "test_x = test_x_flatten/255.\r\n",
        "\r\n",
        "print (\"train_x's shape: \" + str(train_x.shape))\r\n",
        "print (\"test_x's shape: \" + str(test_x.shape))\r\n"
      ],
      "execution_count": null,
      "outputs": []
    },
    {
      "cell_type": "code",
      "metadata": {
        "id": "YQzAg7vkjW0v"
      },
      "source": [
        "# two_layer_model\r\n",
        "\r\n",
        "def two_layer_model(X, Y, layers_dims, learning_rate = 0.0075, num_iterations = 3000, print_cost=False):\r\n",
        "    \"\"\"\r\n",
        "    Implements a two-layer neural network: LINEAR->RELU->LINEAR->SIGMOID.\r\n",
        "    \r\n",
        "    Arguments:\r\n",
        "    X -- input data, of shape (n_x, number of examples)\r\n",
        "    Y -- true \"label\" vector (containing 1 if cat, 0 if non-cat), of shape (1, number of examples)\r\n",
        "    layers_dims -- dimensions of the layers (n_x, n_h, n_y)\r\n",
        "    num_iterations -- number of iterations of the optimization loop\r\n",
        "    learning_rate -- learning rate of the gradient descent update rule\r\n",
        "    print_cost -- If set to True, this will print the cost every 100 iterations \r\n",
        "    \r\n",
        "    Returns:\r\n",
        "    parameters -- a dictionary containing W1, W2, b1, and b2\r\n",
        "    \"\"\"\r\n",
        "    \r\n",
        "    np.random.seed(1)\r\n",
        "    grads = {}\r\n",
        "    costs = []                              # to keep track of the cost\r\n",
        "    m = X.shape[1]                           # number of examples\r\n",
        "    (n_x, n_h, n_y) = layers_dims\r\n",
        "    \r\n",
        "    parameters = initialize_parameters(n_x,n_h,n_y)\r\n",
        "\r\n",
        "    # Get W1, b1, W2 and b2 from the dictionary parameters.\r\n",
        "    W1 = parameters[\"W1\"]\r\n",
        "    b1 = parameters[\"b1\"]\r\n",
        "    W2 = parameters[\"W2\"]\r\n",
        "    b2 = parameters[\"b2\"]\r\n",
        "    \r\n",
        "    # Loop (gradient descent)\r\n",
        "\r\n",
        "    for i in range(0, num_iterations):\r\n",
        "\r\n",
        "\r\n",
        "        A1, cache1 = linear_activation_forward(X,W1,b1,\"relu\")\r\n",
        "        A2, cache2 = linear_activation_forward(A1, W2, b2, \"sigmoid\")\r\n",
        "\r\n",
        "        # Compute cost\r\n",
        "        cost = compute_cost(A2 , Y)\r\n",
        "        \r\n",
        "        # Initializing backward propagation\r\n",
        "        dA2 = - (np.divide(Y, A2) - np.divide(1 - Y, 1 - A2))\r\n",
        "        \r\n",
        "        # Backward propagation.\r\n",
        "        dA1, dW2, db2 = linear_activation_backward(dA2 , cache2, \"sigmoid\")\r\n",
        "        dA0, dW1, db1 = linear_activation_backward(dA1, cache1, \"relu\")\r\n",
        "        \r\n",
        "        grads['dW1'] = dW1\r\n",
        "        grads['db1'] = db1\r\n",
        "        grads['dW2'] = dW2\r\n",
        "        grads['db2'] = db2\r\n",
        "        \r\n",
        "        # Update parameters.\r\n",
        "        parameters = update_parameters(parameters, grads, learning_rate)\r\n",
        "\r\n",
        "        # Retrieving W1, b1, W2, b2 from parameters\r\n",
        "        W1 = parameters[\"W1\"]\r\n",
        "        b1 = parameters[\"b1\"]\r\n",
        "        W2 = parameters[\"W2\"]\r\n",
        "        b2 = parameters[\"b2\"]\r\n",
        "        \r\n",
        "        # Printing the cost every 100 training example\r\n",
        "        if print_cost and i % 100 == 0:\r\n",
        "            print(\"Cost after iteration {}: {}\".format(i, np.squeeze(cost)))\r\n",
        "        if print_cost and i % 100 == 0:\r\n",
        "            costs.append(cost)\r\n",
        "       \r\n",
        "    # plot the cost\r\n",
        "\r\n",
        "    plt.plot(np.squeeze(costs))\r\n",
        "    plt.ylabel('cost')\r\n",
        "    plt.xlabel('iterations (per hundreds)')\r\n",
        "    plt.title(\"Learning rate =\" + str(learning_rate))\r\n",
        "    plt.show()\r\n",
        "    \r\n",
        "    return parameters"
      ],
      "execution_count": 4,
      "outputs": []
    },
    {
      "cell_type": "code",
      "metadata": {
        "id": "EG-M6dLaja1s"
      },
      "source": [
        "parameters = two_layer_model(train_x, train_y, layers_dims = (n_x, n_h, n_y), num_iterations = 2500, print_cost=True)"
      ],
      "execution_count": null,
      "outputs": []
    },
    {
      "cell_type": "code",
      "metadata": {
        "id": "vGzfYAeWjd4y"
      },
      "source": [
        "predictions_train = predict(train_x, train_y, parameters)"
      ],
      "execution_count": null,
      "outputs": []
    },
    {
      "cell_type": "code",
      "metadata": {
        "id": "80uB_Z5AjhHu"
      },
      "source": [
        "predictions_test = predict(test_x, test_y, parameters)"
      ],
      "execution_count": null,
      "outputs": []
    },
    {
      "cell_type": "code",
      "metadata": {
        "id": "u6PJwFTujkOu"
      },
      "source": [
        "#  L_layer_model\r\n",
        "\r\n",
        "def L_layer_model(X, Y, layers_dims, learning_rate = 0.0075, num_iterations = 3000, print_cost=False):#lr was 0.009\r\n",
        "    \"\"\"    \r\n",
        "    Arguments:\r\n",
        "    X -- data, numpy array of shape (num_px * num_px * 3, number of examples)\r\n",
        "    Y -- true \"label\" vector (containing 0 if cat, 1 if non-cat), of shape (1, number of examples)\r\n",
        "    layers_dims -- list containing the input size and each layer size, of length (number of layers + 1).\r\n",
        "    learning_rate -- learning rate of the gradient descent update rule\r\n",
        "    num_iterations -- number of iterations of the optimization loop\r\n",
        "    print_cost -- if True, it prints the cost every 100 steps\r\n",
        "    \r\n",
        "    Returns:\r\n",
        "    parameters -- parameters learnt by the model. They can then be used to predict.\r\n",
        "    \"\"\"\r\n",
        "\r\n",
        "    np.random.seed(1)\r\n",
        "    costs = []                         # keep track of cost\r\n",
        "    \r\n",
        "    # Parameters initialization.\r\n",
        "    parameters = initialize_parameters_deep(layers_dims)\r\n",
        "\r\n",
        "    \r\n",
        "    # Loop (gradient descent)\r\n",
        "    for i in range(0, num_iterations):\r\n",
        "\r\n",
        "        # Forward propagation\r\n",
        "        AL, caches = L_model_forward(X, parameters)\r\n",
        "      \r\n",
        "        \r\n",
        "        # Compute cost.\r\n",
        "        cost = compute_cost(AL, Y)\r\n",
        "        \r\n",
        "    \r\n",
        "        # Backward propagation.\r\n",
        "        grads = L_model_backward(AL,Y,caches)\r\n",
        "       \r\n",
        " \r\n",
        "        # Update parameters.\r\n",
        "        parameters = update_parameters(parameters, grads, learning_rate)\r\n",
        "        \r\n",
        "                \r\n",
        "        # Print the cost every 100 training example\r\n",
        "        if print_cost and i % 100 == 0:\r\n",
        "            print (\"Cost after iteration %i: %f\" %(i, cost))\r\n",
        "        if print_cost and i % 100 == 0:\r\n",
        "            costs.append(cost)\r\n",
        "            \r\n",
        "    # plot the cost\r\n",
        "    plt.plot(np.squeeze(costs))\r\n",
        "    plt.ylabel('cost')\r\n",
        "    plt.xlabel('iterations (per hundreds)')\r\n",
        "    plt.title(\"Learning rate =\" + str(learning_rate))\r\n",
        "    plt.show()\r\n",
        "    \r\n",
        "    return parameters"
      ],
      "execution_count": null,
      "outputs": []
    },
    {
      "cell_type": "code",
      "metadata": {
        "id": "TGhTFTlJjnyh"
      },
      "source": [
        "parameters = L_layer_model(train_x, train_y, layers_dims, num_iterations = 2500, print_cost = True)"
      ],
      "execution_count": null,
      "outputs": []
    },
    {
      "cell_type": "code",
      "metadata": {
        "id": "RJ4lJHtGjqvz"
      },
      "source": [
        "pred_train = predict(train_x, train_y, parameters)"
      ],
      "execution_count": null,
      "outputs": []
    },
    {
      "cell_type": "code",
      "metadata": {
        "id": "pO9vsspEjuOT"
      },
      "source": [
        "pred_test = predict(test_x, test_y, parameters)"
      ],
      "execution_count": null,
      "outputs": []
    },
    {
      "cell_type": "code",
      "metadata": {
        "id": "l4eedEqVjw_z"
      },
      "source": [
        "print_mislabeled_images(classes, test_x, test_y, pred_test)"
      ],
      "execution_count": null,
      "outputs": []
    },
    {
      "cell_type": "code",
      "metadata": {
        "id": "tPj4w0LAj2lf"
      },
      "source": [
        "\r\n",
        "my_image = \"my_image.jpg\" # image file \r\n",
        "my_label_y = [1] # the true class of your image (1 -> cat, 0 -> non-cat)\r\n",
        "\r\n",
        "\r\n",
        "fname = \"images/\" + my_image\r\n",
        "image = np.array(ndimage.imread(fname, flatten=False))\r\n",
        "my_image = scipy.misc.imresize(image, size=(num_px,num_px)).reshape((num_px*num_px*3,1))\r\n",
        "my_image = my_image/255.\r\n",
        "my_predicted_image = predict(my_image, my_label_y, parameters)\r\n",
        "\r\n",
        "plt.imshow(image)\r\n",
        "print (\"y = \" + str(np.squeeze(my_predicted_image)) + \", your L-layer model predicts a \\\"\" + classes[int(np.squeeze(my_predicted_image)),].decode(\"utf-8\") +  \"\\\" picture.\")"
      ],
      "execution_count": null,
      "outputs": []
    }
  ]
}