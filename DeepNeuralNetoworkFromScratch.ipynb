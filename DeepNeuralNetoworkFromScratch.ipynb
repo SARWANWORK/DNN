{
  "nbformat": 4,
  "nbformat_minor": 0,
  "metadata": {
    "colab": {
      "name": "DeepNeuralNetoworkFromScratch.ipynb",
      "provenance": [],
      "collapsed_sections": [],
      "authorship_tag": "ABX9TyOHT78uXaT10m2buzs+V4za",
      "include_colab_link": true
    },
    "kernelspec": {
      "name": "python3",
      "display_name": "Python 3"
    }
  },
  "cells": [
    {
      "cell_type": "markdown",
      "metadata": {
        "id": "view-in-github",
        "colab_type": "text"
      },
      "source": [
        "<a href=\"https://colab.research.google.com/github/SARWANWORK/DNN/blob/main/DeepNeuralNetoworkFromScratch.ipynb\" target=\"_parent\"><img src=\"https://colab.research.google.com/assets/colab-badge.svg\" alt=\"Open In Colab\"/></a>"
      ]
    },
    {
      "cell_type": "code",
      "metadata": {
        "id": "hlKkqAaBfOD0"
      },
      "source": [
        "import numpy as np\r\n",
        "import h5py\r\n",
        "import matplotlib.pyplot as plt\r\n",
        "from testCases_v4a import *\r\n",
        "from dnn_utils_v2 import sigmoid, sigmoid_backward, relu, relu_backward\r\n",
        "\r\n",
        "%matplotlib inline\r\n",
        "plt.rcParams['figure.figsize'] = (5.0, 4.0) # set default size of plots\r\n",
        "plt.rcParams['image.interpolation'] = 'nearest'\r\n",
        "plt.rcParams['image.cmap'] = 'gray'\r\n",
        "\r\n",
        "%load_ext autoreload\r\n",
        "%autoreload 2\r\n",
        "\r\n",
        "np.random.seed(1)"
      ],
      "execution_count": 1,
      "outputs": []
    },
    {
      "cell_type": "code",
      "metadata": {
        "id": "gxV9snZBfnZi"
      },
      "source": [
        "#initializing parameters\r\n",
        "\r\n",
        "def initialize_parameters(n_x, n_h, n_y):\r\n",
        "    \"\"\"\r\n",
        "    Argument:\r\n",
        "    n_x -- size of the input layer\r\n",
        "    n_h -- size of the hidden layer\r\n",
        "    n_y -- size of the output layer\r\n",
        "    \r\n",
        "    Returns:\r\n",
        "    parameters -- python dictionary containing your parameters:\r\n",
        "                    W1 -- weight matrix of shape (n_h, n_x)\r\n",
        "                    b1 -- bias vector of shape (n_h, 1)\r\n",
        "                    W2 -- weight matrix of shape (n_y, n_h)\r\n",
        "                    b2 -- bias vector of shape (n_y, 1)\r\n",
        "    \"\"\"\r\n",
        "    \r\n",
        "    np.random.seed(1)\r\n",
        "    \r\n",
        "    W1 = np.random.randn(n_h,n_x)*0.01\r\n",
        "    b1 = np.zeros((n_h, 1))\r\n",
        "    W2 = np.random.randn(n_y, n_h) * 0.01\r\n",
        "    b2 = np.zeros((n_y, 1))\r\n",
        "    \r\n",
        "    assert(W1.shape == (n_h, n_x))\r\n",
        "    assert(b1.shape == (n_h, 1))\r\n",
        "    assert(W2.shape == (n_y, n_h))\r\n",
        "    assert(b2.shape == (n_y, 1))\r\n",
        "    \r\n",
        "    parameters = {\"W1\": W1,\r\n",
        "                  \"b1\": b1,\r\n",
        "                  \"W2\": W2,\r\n",
        "                  \"b2\": b2}\r\n",
        "    \r\n",
        "    return parameters    "
      ],
      "execution_count": 2,
      "outputs": []
    },
    {
      "cell_type": "code",
      "metadata": {
        "colab": {
          "base_uri": "https://localhost:8080/"
        },
        "id": "UrSEvp4wfxYF",
        "outputId": "31c2b3f3-e464-49bd-d200-f76a8d596a85"
      },
      "source": [
        "parameters = initialize_parameters(3,2,1)\r\n",
        "print(\"W1 = \" + str(parameters[\"W1\"]))\r\n",
        "print(\"b1 = \" + str(parameters[\"b1\"]))\r\n",
        "print(\"W2 = \" + str(parameters[\"W2\"]))\r\n",
        "print(\"b2 = \" + str(parameters[\"b2\"]))"
      ],
      "execution_count": 3,
      "outputs": [
        {
          "output_type": "stream",
          "text": [
            "W1 = [[ 0.01624345 -0.00611756 -0.00528172]\n",
            " [-0.01072969  0.00865408 -0.02301539]]\n",
            "b1 = [[0.]\n",
            " [0.]]\n",
            "W2 = [[ 0.01744812 -0.00761207]]\n",
            "b2 = [[0.]]\n"
          ],
          "name": "stdout"
        }
      ]
    },
    {
      "cell_type": "code",
      "metadata": {
        "id": "y5rqTV4Qf44Z"
      },
      "source": [
        "# initialize_parameters_deep\r\n",
        "\r\n",
        "def initialize_parameters_deep(layer_dims):\r\n",
        "    \"\"\"\r\n",
        "    Arguments:\r\n",
        "    layer_dims -- python array (list) containing the dimensions of each layer in our network\r\n",
        "    \r\n",
        "    Returns:\r\n",
        "    parameters -- python dictionary containing your parameters \"W1\", \"b1\", ..., \"WL\", \"bL\":\r\n",
        "                    Wl -- weight matrix of shape (layer_dims[l], layer_dims[l-1])\r\n",
        "                    bl -- bias vector of shape (layer_dims[l], 1)\r\n",
        "    \"\"\"\r\n",
        "    \r\n",
        "    np.random.seed(3)\r\n",
        "    parameters = {}\r\n",
        "    L = len(layer_dims)            # number of layers in the network\r\n",
        "\r\n",
        "    for l in range(1, L):\r\n",
        "        parameters['W' + str(l)] = np.random.randn(layer_dims[l], layer_dims[l-1])*0.01\r\n",
        "        parameters['b' + str(l)] = np.zeros((layer_dims[l], 1))\r\n",
        "        \r\n",
        "        assert(parameters['W' + str(l)].shape == (layer_dims[l], layer_dims[l-1]))\r\n",
        "        assert(parameters['b' + str(l)].shape == (layer_dims[l], 1))\r\n",
        "\r\n",
        "        \r\n",
        "    return parameters"
      ],
      "execution_count": 4,
      "outputs": []
    },
    {
      "cell_type": "code",
      "metadata": {
        "colab": {
          "base_uri": "https://localhost:8080/"
        },
        "id": "4NYGt9jvf9aQ",
        "outputId": "61d499ca-ec3b-4a8e-b1db-50fb748af7c2"
      },
      "source": [
        "parameters = initialize_parameters_deep([5,4,3])\r\n",
        "print(\"W1 = \" + str(parameters[\"W1\"]))\r\n",
        "print(\"b1 = \" + str(parameters[\"b1\"]))\r\n",
        "print(\"W2 = \" + str(parameters[\"W2\"]))\r\n",
        "print(\"b2 = \" + str(parameters[\"b2\"]))"
      ],
      "execution_count": 5,
      "outputs": [
        {
          "output_type": "stream",
          "text": [
            "W1 = [[ 0.01788628  0.0043651   0.00096497 -0.01863493 -0.00277388]\n",
            " [-0.00354759 -0.00082741 -0.00627001 -0.00043818 -0.00477218]\n",
            " [-0.01313865  0.00884622  0.00881318  0.01709573  0.00050034]\n",
            " [-0.00404677 -0.0054536  -0.01546477  0.00982367 -0.01101068]]\n",
            "b1 = [[0.]\n",
            " [0.]\n",
            " [0.]\n",
            " [0.]]\n",
            "W2 = [[-0.01185047 -0.0020565   0.01486148  0.00236716]\n",
            " [-0.01023785 -0.00712993  0.00625245 -0.00160513]\n",
            " [-0.00768836 -0.00230031  0.00745056  0.01976111]]\n",
            "b2 = [[0.]\n",
            " [0.]\n",
            " [0.]]\n"
          ],
          "name": "stdout"
        }
      ]
    },
    {
      "cell_type": "code",
      "metadata": {
        "id": "5lQ3Vc3agKXy"
      },
      "source": [
        "#forward propogation\r\n",
        "# linear_forward\r\n",
        "\r\n",
        "def linear_forward(A, W, b):\r\n",
        "    \"\"\"\r\n",
        "    Implement the linear part of a layer's forward propagation.\r\n",
        "\r\n",
        "    Arguments:\r\n",
        "    A -- activations from previous layer (or input data): (size of previous layer, number of examples)\r\n",
        "    W -- weights matrix: numpy array of shape (size of current layer, size of previous layer)\r\n",
        "    b -- bias vector, numpy array of shape (size of the current layer, 1)\r\n",
        "\r\n",
        "    Returns:\r\n",
        "    Z -- the input of the activation function, also called pre-activation parameter \r\n",
        "    cache -- a python tuple containing \"A\", \"W\" and \"b\" ; stored for computing the backward pass efficiently\r\n",
        "    \"\"\"\r\n",
        "    \r\n",
        "    Z = np.dot(W,A) + b\r\n",
        "    \r\n",
        "    assert(Z.shape == (W.shape[0], A.shape[1]))\r\n",
        "    cache = (A, W, b)\r\n",
        "    \r\n",
        "    return Z, cache"
      ],
      "execution_count": 6,
      "outputs": []
    },
    {
      "cell_type": "code",
      "metadata": {
        "colab": {
          "base_uri": "https://localhost:8080/"
        },
        "id": "_DfDDKqzgakX",
        "outputId": "5aaa788e-47b7-4a7c-f2a0-a78aeb11aca7"
      },
      "source": [
        "A, W, b = linear_forward_test_case()\r\n",
        "\r\n",
        "Z, linear_cache = linear_forward(A, W, b)\r\n",
        "print(\"Z = \" + str(Z))"
      ],
      "execution_count": 7,
      "outputs": [
        {
          "output_type": "stream",
          "text": [
            "Z = [[ 3.26295337 -1.23429987]]\n"
          ],
          "name": "stdout"
        }
      ]
    },
    {
      "cell_type": "code",
      "metadata": {
        "id": "kWpgDSksgdS3"
      },
      "source": [
        "# linear_activation_forward\r\n",
        "\r\n",
        "def linear_activation_forward(A_prev, W, b, activation):\r\n",
        "    \"\"\"\r\n",
        "    Implement the forward propagation for the LINEAR->ACTIVATION layer\r\n",
        "\r\n",
        "    Arguments:\r\n",
        "    A_prev -- activations from previous layer (or input data): (size of previous layer, number of examples)\r\n",
        "    W -- weights matrix: numpy array of shape (size of current layer, size of previous layer)\r\n",
        "    b -- bias vector, numpy array of shape (size of the current layer, 1)\r\n",
        "    activation -- the activation to be used in this layer, stored as a text string: \"sigmoid\" or \"relu\"\r\n",
        "\r\n",
        "    Returns:\r\n",
        "    A -- the output of the activation function, also called the post-activation value \r\n",
        "    cache -- a python tuple containing \"linear_cache\" and \"activation_cache\";\r\n",
        "             stored for computing the backward pass efficiently\r\n",
        "    \"\"\"\r\n",
        "    \r\n",
        "    if activation == \"sigmoid\":\r\n",
        "        Z, linear_cache = linear_forward(A_prev, W, b)\r\n",
        "        A, activation_cache = sigmoid(Z)\r\n",
        "    \r\n",
        "    elif activation == \"relu\":\r\n",
        "        Z, linear_cache = linear_forward(A_prev, W, b)\r\n",
        "        A, activation_cache = relu(Z)\r\n",
        "    \r\n",
        "    assert (A.shape == (W.shape[0], A_prev.shape[1]))\r\n",
        "    cache = (linear_cache, activation_cache)\r\n",
        "\r\n",
        "    return A, cache"
      ],
      "execution_count": 8,
      "outputs": []
    },
    {
      "cell_type": "code",
      "metadata": {
        "colab": {
          "base_uri": "https://localhost:8080/"
        },
        "id": "TttSdrUzgmTz",
        "outputId": "efc71c9b-45d8-4786-8e27-89a02e9d85fe"
      },
      "source": [
        "A_prev, W, b = linear_activation_forward_test_case()\r\n",
        "\r\n",
        "A, linear_activation_cache = linear_activation_forward(A_prev, W, b, activation = \"sigmoid\")\r\n",
        "print(\"With sigmoid: A = \" + str(A))\r\n",
        "\r\n",
        "A, linear_activation_cache = linear_activation_forward(A_prev, W, b, activation = \"relu\")\r\n",
        "print(\"With ReLU: A = \" + str(A))"
      ],
      "execution_count": 9,
      "outputs": [
        {
          "output_type": "stream",
          "text": [
            "With sigmoid: A = [[0.96890023 0.11013289]]\n",
            "With ReLU: A = [[3.43896131 0.        ]]\n"
          ],
          "name": "stdout"
        }
      ]
    },
    {
      "cell_type": "code",
      "metadata": {
        "id": "ju1uetTcgpsT"
      },
      "source": [
        "# L_model_forward\r\n",
        "\r\n",
        "def L_model_forward(X, parameters):\r\n",
        "    \"\"\"\r\n",
        "    Implement forward propagation for the [LINEAR->RELU]*(L-1)->LINEAR->SIGMOID computation\r\n",
        "    \r\n",
        "    Arguments:\r\n",
        "    X -- data, numpy array of shape (input size, number of examples)\r\n",
        "    parameters -- output of initialize_parameters_deep()\r\n",
        "    \r\n",
        "    Returns:\r\n",
        "    AL -- last post-activation value\r\n",
        "    caches -- list of caches containing:\r\n",
        "                every cache of linear_activation_forward() (there are L-1 of them, indexed from 0 to L-1)\r\n",
        "    \"\"\"\r\n",
        "\r\n",
        "    caches = []\r\n",
        "    A = X\r\n",
        "    L = len(parameters) // 2                  # number of layers in the neural network\r\n",
        "    \r\n",
        "    for l in range(1, L):\r\n",
        "        A_prev = A \r\n",
        "        A, cache = linear_activation_forward(A_prev,parameters['W' + str(l)], \r\n",
        "                                             parameters['b' + str(l)], \r\n",
        "                                             activation='relu')\r\n",
        "        caches.append(cache)\r\n",
        "\r\n",
        "    AL, cache = linear_activation_forward(A, \r\n",
        "                                          parameters['W' + str(L)], \r\n",
        "                                          parameters['b' + str(L)], \r\n",
        "                                          activation='sigmoid')\r\n",
        "    caches.append(cache)\r\n",
        "  \r\n",
        "    \r\n",
        "    assert(AL.shape == (1,X.shape[1]))\r\n",
        "            \r\n",
        "    return AL, caches"
      ],
      "execution_count": 10,
      "outputs": []
    },
    {
      "cell_type": "code",
      "metadata": {
        "colab": {
          "base_uri": "https://localhost:8080/"
        },
        "id": "bPcCnwQSgxDE",
        "outputId": "c35edefb-c27d-48c3-aef8-84ad88ab5833"
      },
      "source": [
        "X, parameters = L_model_forward_test_case_2hidden()\r\n",
        "AL, caches = L_model_forward(X, parameters)\r\n",
        "print(\"AL = \" + str(AL))\r\n",
        "print(\"Length of caches list = \" + str(len(caches)))"
      ],
      "execution_count": 11,
      "outputs": [
        {
          "output_type": "stream",
          "text": [
            "AL = [[0.03921668 0.70498921 0.19734387 0.04728177]]\n",
            "Length of caches list = 3\n"
          ],
          "name": "stdout"
        }
      ]
    },
    {
      "cell_type": "code",
      "metadata": {
        "id": "H80RlLWwg1Gz"
      },
      "source": [
        "# Cost function\r\n",
        "\r\n",
        "def compute_cost(AL, Y):\r\n",
        "    \"\"\"\r\n",
        "    Implement the cost function defined by equation (7).\r\n",
        "\r\n",
        "    Arguments:\r\n",
        "    AL -- probability vector corresponding to your label predictions, shape (1, number of examples)\r\n",
        "    Y -- true \"label\" vector (for example: containing 0 if non-cat, 1 if cat), shape (1, number of examples)\r\n",
        "\r\n",
        "    Returns:\r\n",
        "    cost -- cross-entropy cost\r\n",
        "    \"\"\"\r\n",
        "    \r\n",
        "    m = Y.shape[1]\r\n",
        "\r\n",
        "    cost = (-1 / m) * np.sum(np.multiply(Y, np.log(AL)) + np.multiply(1 - Y, np.log(1 - AL)))\r\n",
        "    \r\n",
        "    cost = np.squeeze(cost)     \r\n",
        "    assert(cost.shape == ())\r\n",
        "    \r\n",
        "    return cost"
      ],
      "execution_count": 12,
      "outputs": []
    },
    {
      "cell_type": "code",
      "metadata": {
        "colab": {
          "base_uri": "https://localhost:8080/"
        },
        "id": "IDZWIdk3g9sr",
        "outputId": "10c384bb-4689-4b28-e459-fd2b5f08a5b8"
      },
      "source": [
        "Y, AL = compute_cost_test_case()\r\n",
        "\r\n",
        "print(\"cost = \" + str(compute_cost(AL, Y)))"
      ],
      "execution_count": 13,
      "outputs": [
        {
          "output_type": "stream",
          "text": [
            "cost = 0.2797765635793422\n"
          ],
          "name": "stdout"
        }
      ]
    },
    {
      "cell_type": "code",
      "metadata": {
        "id": "u4gnMjJZhAJr"
      },
      "source": [
        "# linear_backward (backward_propogation)\r\n",
        "\r\n",
        "def linear_backward(dZ, cache):\r\n",
        "    \"\"\"\r\n",
        "    Implement the linear portion of backward propagation for a single layer (layer l)\r\n",
        "\r\n",
        "    Arguments:\r\n",
        "    dZ -- Gradient of the cost with respect to the linear output (of current layer l)\r\n",
        "    cache -- tuple of values (A_prev, W, b) coming from the forward propagation in the current layer\r\n",
        "\r\n",
        "    Returns:\r\n",
        "    dA_prev -- Gradient of the cost with respect to the activation (of the previous layer l-1), same shape as A_prev\r\n",
        "    dW -- Gradient of the cost with respect to W (current layer l), same shape as W\r\n",
        "    db -- Gradient of the cost with respect to b (current layer l), same shape as b\r\n",
        "    \"\"\"\r\n",
        "    A_prev, W, b = cache\r\n",
        "    m = A_prev.shape[1]\r\n",
        "\r\n",
        "    dW = 1/m*(np.dot(dZ, A_prev.T))\r\n",
        "    db = 1/m*(np.sum(dZ, axis = 1, keepdims = True))\r\n",
        "    dA_prev = np.dot(W.T, dZ)\r\n",
        "    \r\n",
        "    assert (dA_prev.shape == A_prev.shape)\r\n",
        "    assert (dW.shape == W.shape)\r\n",
        "    assert (db.shape == b.shape)\r\n",
        "    \r\n",
        "    return dA_prev, dW, db"
      ],
      "execution_count": 14,
      "outputs": []
    },
    {
      "cell_type": "code",
      "metadata": {
        "colab": {
          "base_uri": "https://localhost:8080/"
        },
        "id": "UEmZ_SVDhIrx",
        "outputId": "4a6e8c94-e27b-4f21-8eb6-e84f206e3ac5"
      },
      "source": [
        "dZ, linear_cache = linear_backward_test_case()\r\n",
        "\r\n",
        "dA_prev, dW, db = linear_backward(dZ, linear_cache)\r\n",
        "print (\"dA_prev = \"+ str(dA_prev))\r\n",
        "print (\"dW = \" + str(dW))\r\n",
        "print (\"db = \" + str(db))"
      ],
      "execution_count": 15,
      "outputs": [
        {
          "output_type": "stream",
          "text": [
            "dA_prev = [[-1.15171336  0.06718465 -0.3204696   2.09812712]\n",
            " [ 0.60345879 -3.72508701  5.81700741 -3.84326836]\n",
            " [-0.4319552  -1.30987417  1.72354705  0.05070578]\n",
            " [-0.38981415  0.60811244 -1.25938424  1.47191593]\n",
            " [-2.52214926  2.67882552 -0.67947465  1.48119548]]\n",
            "dW = [[ 0.07313866 -0.0976715  -0.87585828  0.73763362  0.00785716]\n",
            " [ 0.85508818  0.37530413 -0.59912655  0.71278189 -0.58931808]\n",
            " [ 0.97913304 -0.24376494 -0.08839671  0.55151192 -0.10290907]]\n",
            "db = [[-0.14713786]\n",
            " [-0.11313155]\n",
            " [-0.13209101]]\n"
          ],
          "name": "stdout"
        }
      ]
    },
    {
      "cell_type": "code",
      "metadata": {
        "id": "J3sF-9T9hMoB"
      },
      "source": [
        "# linear_activation_backward\r\n",
        "\r\n",
        "def linear_activation_backward(dA, cache, activation):\r\n",
        "    \"\"\"\r\n",
        "    Implement the backward propagation for the LINEAR->ACTIVATION layer.\r\n",
        "    \r\n",
        "    Arguments:\r\n",
        "    dA -- post-activation gradient for current layer l \r\n",
        "    cache -- tuple of values (linear_cache, activation_cache) we store for computing backward propagation efficiently\r\n",
        "    activation -- the activation to be used in this layer, stored as a text string: \"sigmoid\" or \"relu\"\r\n",
        "    \r\n",
        "    Returns:\r\n",
        "    dA_prev -- Gradient of the cost with respect to the activation (of the previous layer l-1), same shape as A_prev\r\n",
        "    dW -- Gradient of the cost with respect to W (current layer l), same shape as W\r\n",
        "    db -- Gradient of the cost with respect to b (current layer l), same shape as b\r\n",
        "    \"\"\"\r\n",
        "    linear_cache, activation_cache = cache\r\n",
        "    \r\n",
        "    if activation == \"relu\":\r\n",
        "     \r\n",
        "        dZ = dA*relu_backward(dA, activation_cache)\r\n",
        "        dA_prev, dW, db = linear_backward(dZ, linear_cache)\r\n",
        "     \r\n",
        "        \r\n",
        "    elif activation == \"sigmoid\":\r\n",
        "        dZ = sigmoid_backward(dA, activation_cache)\r\n",
        "        dA_prev, dW, db = linear_backward(dZ, linear_cache)\r\n",
        "    \r\n",
        "    return dA_prev, dW, db"
      ],
      "execution_count": 16,
      "outputs": []
    },
    {
      "cell_type": "code",
      "metadata": {
        "colab": {
          "base_uri": "https://localhost:8080/"
        },
        "id": "qAsOkTlOhU6Y",
        "outputId": "d749152c-625c-44cc-d0fd-024a4ed7818d"
      },
      "source": [
        "dAL, linear_activation_cache = linear_activation_backward_test_case()\r\n",
        "\r\n",
        "dA_prev, dW, db = linear_activation_backward(dAL, linear_activation_cache, activation = \"sigmoid\")\r\n",
        "print (\"sigmoid:\")\r\n",
        "print (\"dA_prev = \"+ str(dA_prev))\r\n",
        "print (\"dW = \" + str(dW))\r\n",
        "print (\"db = \" + str(db) + \"\\n\")\r\n",
        "\r\n",
        "dA_prev, dW, db = linear_activation_backward(dAL, linear_activation_cache, activation = \"relu\")\r\n",
        "print (\"relu:\")\r\n",
        "print (\"dA_prev = \"+ str(dA_prev))\r\n",
        "print (\"dW = \" + str(dW))\r\n",
        "print (\"db = \" + str(db))"
      ],
      "execution_count": 17,
      "outputs": [
        {
          "output_type": "stream",
          "text": [
            "sigmoid:\n",
            "dA_prev = [[ 0.11017994  0.01105339]\n",
            " [ 0.09466817  0.00949723]\n",
            " [-0.05743092 -0.00576154]]\n",
            "dW = [[ 0.10266786  0.09778551 -0.01968084]]\n",
            "db = [[-0.05729622]]\n",
            "\n",
            "relu:\n",
            "dA_prev = [[-0.18375266  0.        ]\n",
            " [-0.1578829   0.        ]\n",
            " [ 0.09578046  0.        ]]\n",
            "dW = [[-0.18551486 -0.15574832  0.04367201]]\n",
            "db = [[0.08684355]]\n"
          ],
          "name": "stdout"
        }
      ]
    },
    {
      "cell_type": "code",
      "metadata": {
        "id": "7ugDD_G_hXK1"
      },
      "source": [
        "# GRADED FUNCTION: L_model_backward\r\n",
        "\r\n",
        "def L_model_backward(AL, Y, caches):\r\n",
        "    \"\"\"\r\n",
        "    Implement the backward propagation for the [LINEAR->RELU] * (L-1) -> LINEAR -> SIGMOID group\r\n",
        "    \r\n",
        "    Arguments:\r\n",
        "    AL -- probability vector, output of the forward propagation (L_model_forward())\r\n",
        "    Y -- true \"label\" vector (containing 0 if non-cat, 1 if cat)\r\n",
        "    caches -- list of caches containing:\r\n",
        "                every cache of linear_activation_forward() with \"relu\" (it's caches[l], for l in range(L-1) i.e l = 0...L-2)\r\n",
        "                the cache of linear_activation_forward() with \"sigmoid\" (it's caches[L-1])\r\n",
        "    \r\n",
        "    Returns:\r\n",
        "    grads -- A dictionary with the gradients\r\n",
        "             grads[\"dA\" + str(l)] = ... \r\n",
        "             grads[\"dW\" + str(l)] = ...\r\n",
        "             grads[\"db\" + str(l)] = ... \r\n",
        "    \"\"\"\r\n",
        "    grads = {}\r\n",
        "    L = len(caches) # the number of layers\r\n",
        "    m = AL.shape[1]\r\n",
        "    Y = Y.reshape(AL.shape) # after this line, Y is the same shape as AL\r\n",
        "    \r\n",
        "    # Initializing the backpropagation\r\n",
        "    dAL = - (np.divide(Y, AL) - np.divide(1 - Y, 1 - AL))\r\n",
        "    \r\n",
        "    # Lth layer (SIGMOID -> LINEAR) gradients. Inputs: \"dAL, current_cache\". Outputs: \"grads[\"dAL-1\"], grads[\"dWL\"], grads[\"dbL\"]\r\n",
        "    dA_prev,dW,db = linear_activation_backward(dAL, caches[L-1], \"sigmoid\")\r\n",
        "    grads[\"dA\" + str(L-1)], grads[\"dW\" + str(L)], grads[\"db\" + str(L)] = dA_prev,dW,db\r\n",
        "    \r\n",
        "    # Loop from l=L-2 to l=0\r\n",
        "    for l in reversed(range(L-1)):\r\n",
        "        dA_prev, dW, db = linear_activation_backward(dA_prev, caches[l], \"relu\")\r\n",
        "        grads[\"dA\" + str(l)] = dA_prev\r\n",
        "        grads[\"dW\" + str(l + 1)] = dW\r\n",
        "        grads[\"db\" + str(l + 1)] = db\r\n",
        "\r\n",
        "\r\n",
        "    return grads"
      ],
      "execution_count": 18,
      "outputs": []
    },
    {
      "cell_type": "code",
      "metadata": {
        "colab": {
          "base_uri": "https://localhost:8080/"
        },
        "id": "BlcPjqsIhkIr",
        "outputId": "4ae0c44d-62a0-475d-f9d0-1b122daf399c"
      },
      "source": [
        "AL, Y_assess, caches = L_model_backward_test_case()\r\n",
        "grads = L_model_backward(AL, Y_assess, caches)\r\n",
        "print_grads(grads)"
      ],
      "execution_count": 19,
      "outputs": [
        {
          "output_type": "stream",
          "text": [
            "dW1 = [[-0.18050194 -0.03436272 -0.06073264 -0.04622437]\n",
            " [ 0.          0.          0.          0.        ]\n",
            " [-0.0029962  -0.0005704  -0.00100812 -0.00076729]]\n",
            "db1 = [[0.09686217]\n",
            " [0.        ]\n",
            " [0.00160784]]\n",
            "dA1 = [[ 0.12913162 -0.44014127]\n",
            " [-0.14175655  0.48317296]\n",
            " [ 0.01663708 -0.05670698]]\n"
          ],
          "name": "stdout"
        }
      ]
    },
    {
      "cell_type": "code",
      "metadata": {
        "id": "XI8gcG-ZhnMY"
      },
      "source": [
        "#update_parameters\r\n",
        "\r\n",
        "def update_parameters(parameters, grads, learning_rate):\r\n",
        "    \"\"\"\r\n",
        "    Update parameters using gradient descent\r\n",
        "    \r\n",
        "    Arguments:\r\n",
        "    parameters -- python dictionary containing your parameters \r\n",
        "    grads -- python dictionary containing your gradients, output of L_model_backward\r\n",
        "    \r\n",
        "    Returns:\r\n",
        "    parameters -- python dictionary containing your updated parameters \r\n",
        "                  parameters[\"W\" + str(l)] = ... \r\n",
        "                  parameters[\"b\" + str(l)] = ...\r\n",
        "    \"\"\"\r\n",
        "    \r\n",
        "    L = len(parameters) // 2 # number of layers in the neural network\r\n",
        "    for l in range(L):\r\n",
        "        parameters[\"W\" + str(l+1)] -= learning_rate*grads[\"dW\" + str(l+1)]\r\n",
        "        parameters[\"b\" + str(l+1)] -= learning_rate*grads[\"db\" + str(l+1)]\r\n",
        "\r\n",
        "    return parameters"
      ],
      "execution_count": 20,
      "outputs": []
    },
    {
      "cell_type": "code",
      "metadata": {
        "colab": {
          "base_uri": "https://localhost:8080/"
        },
        "id": "mef61GVWhwIO",
        "outputId": "fef36a61-203c-48a4-9cfd-1ceb92917111"
      },
      "source": [
        "parameters, grads = update_parameters_test_case()\r\n",
        "parameters = update_parameters(parameters, grads, 0.1)\r\n",
        "\r\n",
        "print (\"W1 = \"+ str(parameters[\"W1\"]))\r\n",
        "print (\"b1 = \"+ str(parameters[\"b1\"]))\r\n",
        "print (\"W2 = \"+ str(parameters[\"W2\"]))\r\n",
        "print (\"b2 = \"+ str(parameters[\"b2\"]))"
      ],
      "execution_count": 21,
      "outputs": [
        {
          "output_type": "stream",
          "text": [
            "W1 = [[-0.59562069 -0.09991781 -2.14584584  1.82662008]\n",
            " [-1.76569676 -0.80627147  0.51115557 -1.18258802]\n",
            " [-1.0535704  -0.86128581  0.68284052  2.20374577]]\n",
            "b1 = [[-0.04659241]\n",
            " [-1.28888275]\n",
            " [ 0.53405496]]\n",
            "W2 = [[-0.55569196  0.0354055   1.32964895]]\n",
            "b2 = [[-0.84610769]]\n"
          ],
          "name": "stdout"
        }
      ]
    }
  ]
}